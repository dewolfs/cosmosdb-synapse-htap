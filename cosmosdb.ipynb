{
  "cells": [
    {
      "cell_type": "markdown",
      "id": "4ec947ba-ad4d-4676-9c59-af9af5338531",
      "metadata": {
        "nteract": {
          "transient": {
            "deleting": false
          }
        }
      },
      "source": "# CosmosDB jupyter notebook\r\n## 1. Create cosmosdb database"
    },
    {
      "cell_type": "code",
      "execution_count": null,
      "id": "ef84be88-919c-48bc-b959-7853a8c5b8f7",
      "metadata": {
        "collapsed": true,
        "jupyter": {
          "outputs_hidden": false,
          "source_hidden": false
        },
        "nteract": {
          "transient": {
            "deleting": false
          }
        },
        "trusted": true
      },
      "outputs": [],
      "source": "import azure.cosmos\r\nfrom azure.cosmos.partition_key import PartitionKey\r\n\r\n# create CosmosDB database\r\ndatabase = cosmos_client.create_database_if_not_exists('RetailDemo')\r\nprint('Database RetailDemo created')"
    },
    {
      "cell_type": "markdown",
      "id": "81c315a8-d0f4-4a6e-a345-38369d9d4454",
      "metadata": {
        "nteract": {
          "transient": {
            "deleting": false
          }
        }
      },
      "source": "## 2. Create cosmosdb database container"
    },
    {
      "cell_type": "code",
      "execution_count": null,
      "id": "e2372bfa-1585-49e8-b9d8-6216724a8655",
      "metadata": {
        "collapsed": true,
        "jupyter": {
          "outputs_hidden": false,
          "source_hidden": false
        },
        "nteract": {
          "transient": {
            "deleting": false
          }
        },
        "trusted": true
      },
      "outputs": [],
      "source": "container = database.create_container_if_not_exists(id='WebsiteData', partition_key=PartitionKey(path='/CartID'), analytical_storage_ttl=-1)\r\nprint('Container WebsiteData created')"
    },
    {
      "cell_type": "markdown",
      "id": "d156eb6a-3f0a-4a18-aad7-de4f54dcd65d",
      "metadata": {
        "nteract": {
          "transient": {
            "deleting": false
          }
        }
      },
      "source": "## 3. Upload JSON file into cosmosdb container"
    },
    {
      "cell_type": "code",
      "execution_count": null,
      "id": "d43e0340-dbeb-4f4c-a95d-626c154b10a1",
      "metadata": {
        "collapsed": true,
        "jupyter": {
          "outputs_hidden": false,
          "source_hidden": false
        },
        "nteract": {
          "transient": {
            "deleting": false
          }
        },
        "trusted": true
      },
      "outputs": [],
      "source": "# set default database \r\n%database RetailDemo"
    },
    {
      "cell_type": "code",
      "execution_count": null,
      "id": "9c770df1-c3b4-4d20-b7a5-39dbdfc25672",
      "metadata": {
        "collapsed": true,
        "jupyter": {
          "outputs_hidden": false,
          "source_hidden": false
        },
        "nteract": {
          "transient": {
            "deleting": false
          }
        },
        "trusted": true
      },
      "outputs": [],
      "source": "# set default database container\r\n%container WebsiteData"
    },
    {
      "cell_type": "code",
      "execution_count": null,
      "id": "962d47b5-5e05-4266-b627-188fc7cb99e8",
      "metadata": {
        "collapsed": true,
        "jupyter": {
          "outputs_hidden": false,
          "source_hidden": false
        },
        "nteract": {
          "transient": {
            "deleting": false
          }
        },
        "trusted": true
      },
      "outputs": [],
      "source": "%%upload --databaseName RetailDemo --containerName WebsiteData --url https://cosmosnotebooksdata.blob.core.windows.net/notebookdata/websiteData-small.json"
    },
    {
      "cell_type": "markdown",
      "id": "9be0ccb9-a71e-4f19-b6ca-697fdbff871b",
      "metadata": {
        "nteract": {
          "transient": {
            "deleting": false
          }
        }
      },
      "source": "## 4. read database container data"
    },
    {
      "cell_type": "code",
      "execution_count": null,
      "id": "9d1150d7-2561-41ca-90f4-6f9a7a97e1c1",
      "metadata": {
        "collapsed": true,
        "jupyter": {
          "outputs_hidden": false,
          "source_hidden": false
        },
        "nteract": {
          "transient": {
            "deleting": false
          }
        },
        "trusted": true
      },
      "outputs": [],
      "source": "%%sql --database RetailDemo --container WebsiteData --output df_cosmos\r\nSELECT c.Action, c.Price as ItemRevenue, c.Country, c.Item FROM c"
    },
    {
      "cell_type": "code",
      "execution_count": null,
      "id": "b8524157-6111-4fa6-afe7-36096d1b6cb5",
      "metadata": {
        "collapsed": true,
        "jupyter": {
          "outputs_hidden": false,
          "source_hidden": false
        },
        "nteract": {
          "transient": {
            "deleting": false
          }
        },
        "trusted": true
      },
      "outputs": [],
      "source": "df_cosmos.head(10)"
    },
    {
      "cell_type": "code",
      "execution_count": null,
      "id": "60b877bb-532e-438d-be20-cb387b12cc1c",
      "metadata": {
        "collapsed": true,
        "jupyter": {
          "outputs_hidden": false,
          "source_hidden": false
        },
        "nteract": {
          "transient": {
            "deleting": false
          }
        },
        "trusted": true
      },
      "outputs": [],
      "source": "import pandas as pd\r\npd.options.display.html.table_schema = True\r\npd.options.display.max_rows = None\r\n\r\ndf_cosmos.groupby(\"Item\").size()"
    }
  ],
  "metadata": {
    "language_info": {
      "file_extension": "ipynb",
      "mimetype": "application/json",
      "name": "python",
      "version": "3.7"
    },
    "nteract": {
      "version": "dataExplorer 1.0"
    }
  },
  "nbformat": 4,
  "nbformat_minor": 5
}